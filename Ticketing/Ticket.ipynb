import tkinter as tk
from tkinter import messagebox, scrolledtext
import sqlite3

conn = sqlite3.connect('ticketing_system.db')
c = conn.cursor()

# ... Définition des tables et insertion des données utilisateurs (comme précédemment) ...

class TicketingApp:
    def __init__(self, root):
        self.root = root
        self.root.title("Système de Gestion de Tickets")
        self.root.configure(bg='beige')

        # ... Initialisation de l'interface avec un Canvas et une image de fond ...

        self.main_frame = tk.Frame(self.canvas, bg='beige')
        self.main_frame.place(relx=0.5, rely=0.5, anchor='center')

        # ... Définition des cadres pour les différentes vues (comme précédemment) ...

    def login(self):
        # ... Méthode de connexion utilisateur (comme précédemment) ...

    def show_tickets(self):
        # ... Affichage des tickets ouverts (comme précédemment) ...

    def show_closed_tickets(self):
        # ... Affichage des tickets fermés (comme précédemment) ...

    def show_in_progress_tickets(self):
        # ... Affichage des tickets en cours (comme précédemment) ...

    def show_create_ticket(self):
        # ... Affichage du formulaire de création de ticket (comme précédemment) ...

    def create_ticket(self):
        # ... Création d'un nouveau ticket (comme précédemment) ...

    def open_ticket(self, ticket_id):
        self.tickets_frame.pack_forget()
        self.chat_frame.pack(padx=10, pady=10)

        for widget in self.chat_frame.winfo_children():
            widget.destroy()

        c.execute("SELECT name, description FROM tickets WHERE id = ?", (ticket_id,))
        ticket = c.fetchone()

        tk.Label(self.chat_frame, text=f"Ticket: {ticket[0]}", bg='beige').grid(row=0, column=0, padx=5, pady=5, sticky='w')
        tk.Label(self.chat_frame, text=f"Description: {ticket[1]}", bg='beige').grid(row=1, column=0, padx=5, pady=5, sticky='w')

        tk.Label(self.chat_frame, text="Messages", bg='beige').grid(row=2, column=0, padx=5, pady=5, sticky='w')

        self.message_text = scrolledtext.ScrolledText(self.chat_frame, height=10, width=50)
        self.message_text.grid(row=3, column=0, padx=5, pady=5, sticky='w')

        tk.Button(self.chat_frame, text="Envoyer", command=lambda: self.send_message(ticket_id), bg='lightblue', relief=tk.RAISED).grid(row=4, column=0, padx=5, pady=5, sticky='w')
        tk.Button(self.chat_frame, text="Fermer", command=self.show_tickets, bg='lightgrey', relief=tk.RAISED).grid(row=5, column=0, padx=5, pady=5, sticky='w')

        c.execute("SELECT users.username, messages.message FROM messages JOIN users ON messages.user_id = users.id WHERE messages.ticket_id = ?", (ticket_id,))
        messages = c.fetchall()

        for idx, message in enumerate(messages):
            tk.Label(self.chat_frame, text=f"{message[0]}: {message[1]}", bg='beige').grid(row=6 + idx, column=0, padx=5, pady=2, sticky='w')

    def send_message(self, ticket_id):
        message = self.message_text.get("1.0", tk.END)

        c.execute("INSERT INTO messages (ticket_id, user_id, message) VALUES (?, ?, ?)", (ticket_id, self.user_id, message))
        conn.commit()

        messagebox.showinfo("Message envoyé", "Votre message a été envoyé avec succès!")
        self.open_ticket(ticket_id)

if __name__ == "__main__":
    root = tk.Tk()
    app = TicketingApp(root)

    root.geometry('800x600')

    root.mainloop()

conn.close()
